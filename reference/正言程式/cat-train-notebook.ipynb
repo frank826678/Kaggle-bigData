{
 "cells": [
  {
   "cell_type": "code",
   "execution_count": 1,
   "id": "c804d37c",
   "metadata": {
    "execution": {
     "iopub.execute_input": "2024-09-12T04:53:19.207807Z",
     "iopub.status.busy": "2024-09-12T04:53:19.207429Z",
     "iopub.status.idle": "2024-09-12T04:53:21.333188Z",
     "shell.execute_reply": "2024-09-12T04:53:21.332424Z"
    },
    "id": "MB82eHvUrGBM",
    "papermill": {
     "duration": 2.135411,
     "end_time": "2024-09-12T04:53:21.335899",
     "exception": false,
     "start_time": "2024-09-12T04:53:19.200488",
     "status": "completed"
    },
    "tags": []
   },
   "outputs": [],
   "source": [
    "import sys\n",
    "from pathlib import Path\n",
    "import os\n",
    "import gc\n",
    "import datetime\n",
    "from glob import glob\n",
    "import numpy as np\n",
    "import pandas as pd\n",
    "import polars as pl\n",
    "\n",
    "from sklearn.model_selection import StratifiedGroupKFold\n",
    "from sklearn.metrics import roc_auc_score\n",
    "\n",
    "import warnings\n",
    "warnings.filterwarnings('ignore')"
   ]
  },
  {
   "cell_type": "code",
   "execution_count": 2,
   "id": "166e6b27",
   "metadata": {
    "execution": {
     "iopub.execute_input": "2024-09-12T04:53:21.347230Z",
     "iopub.status.busy": "2024-09-12T04:53:21.346842Z",
     "iopub.status.idle": "2024-09-12T04:53:21.351515Z",
     "shell.execute_reply": "2024-09-12T04:53:21.350673Z"
    },
    "id": "nH8ri2wnrGBN",
    "outputId": "3afe7ff5-ef65-460c-ad69-d630b39b7d7e",
    "papermill": {
     "duration": 0.012485,
     "end_time": "2024-09-12T04:53:21.353647",
     "exception": false,
     "start_time": "2024-09-12T04:53:21.341162",
     "status": "completed"
    },
    "tags": []
   },
   "outputs": [
    {
     "name": "stdout",
     "output_type": "stream",
     "text": [
      "Notebook Start Time (UTC): 2024-09-12 04:53:21.348224\n"
     ]
    }
   ],
   "source": [
    "start_time_utc = datetime.datetime.now()\n",
    "print(f'Notebook Start Time (UTC): {start_time_utc}')"
   ]
  },
  {
   "cell_type": "code",
   "execution_count": 3,
   "id": "42e1c24e",
   "metadata": {
    "execution": {
     "iopub.execute_input": "2024-09-12T04:53:21.364502Z",
     "iopub.status.busy": "2024-09-12T04:53:21.364212Z",
     "iopub.status.idle": "2024-09-12T04:53:21.387167Z",
     "shell.execute_reply": "2024-09-12T04:53:21.386367Z"
    },
    "id": "DVkW3_nVrGBO",
    "papermill": {
     "duration": 0.03065,
     "end_time": "2024-09-12T04:53:21.389040",
     "exception": false,
     "start_time": "2024-09-12T04:53:21.358390",
     "status": "completed"
    },
    "tags": []
   },
   "outputs": [],
   "source": [
    "class Pipeline:\n",
    "\n",
    "    def set_table_dtypes(df):\n",
    "        for col in df.columns:\n",
    "            if col in [\"case_id\", \"WEEK_NUM\", \"num_group1\", \"num_group2\"]:\n",
    "                df = df.with_columns(pl.col(col).cast(pl.Int64))\n",
    "            elif col in [\"date_decision\"]:\n",
    "                df = df.with_columns(pl.col(col).cast(pl.Date))\n",
    "            elif col[-1] in (\"P\", \"A\"):\n",
    "                df = df.with_columns(pl.col(col).cast(pl.Float64))\n",
    "            elif col[-1] in (\"M\",):\n",
    "                df = df.with_columns(pl.col(col).cast(pl.String))\n",
    "            elif col[-1] in (\"D\",):\n",
    "                df = df.with_columns(pl.col(col).cast(pl.Date))\n",
    "        return df\n",
    "\n",
    "    def handle_dates(df):\n",
    "        for col in df.columns:\n",
    "            if col[-1] in (\"D\",):\n",
    "                df = df.with_columns(pl.col(col) - pl.col(\"date_decision\"))  #!!?\n",
    "                df = df.with_columns(pl.col(col).dt.total_days()) # t - t-1\n",
    "        df = df.drop(\"date_decision\", \"MONTH\")\n",
    "        return df\n",
    "\n",
    "    def filter_cols(df):\n",
    "        for col in df.columns:\n",
    "            if col not in [\"target\", \"case_id\", \"WEEK_NUM\"]:\n",
    "                isnull = df[col].is_null().mean()\n",
    "                if isnull > 0.98:\n",
    "                    df = df.drop(col)\n",
    "\n",
    "        for col in df.columns:\n",
    "            if (col not in [\"target\", \"case_id\", \"WEEK_NUM\"]) & (df[col].dtype == pl.String):\n",
    "                freq = df[col].n_unique()\n",
    "                if (freq == 1) | (freq > 200):\n",
    "                    df = df.drop(col)\n",
    "\n",
    "        return df\n",
    "\n",
    "\n",
    "\n",
    "class Aggregator:\n",
    "    # Please add or subtract features yourself, be aware that too many features will take up too much space.\n",
    "    def num_expr(df):\n",
    "        cols = [col for col in df.columns if col[-1] in (\"P\", \"A\")]\n",
    "        expr_max = [pl.max(col).alias(f\"max_{col}\") for col in cols]\n",
    "\n",
    "        expr_last = [pl.last(col).alias(f\"last_{col}\") for col in cols]\n",
    "        # expr_first = [pl.first(col).alias(f\"first_{col}\") for col in cols]\n",
    "        expr_mean = [pl.mean(col).alias(f\"mean_{col}\") for col in cols]\n",
    "        expr_median = [pl.median(col).alias(f\"median_{col}\") for col in cols]\n",
    "        expr_var = [pl.var(col).alias(f\"var_{col}\") for col in cols]\n",
    "\n",
    "        return expr_max + expr_last + expr_mean\n",
    "\n",
    "    def date_expr(df):\n",
    "        cols = [col for col in df.columns if col[-1] in (\"D\")]\n",
    "        expr_max = [pl.max(col).alias(f\"max_{col}\") for col in cols]\n",
    "        # expr_min = [pl.min(col).alias(f\"min_{col}\") for col in cols]\n",
    "        expr_last = [pl.last(col).alias(f\"last_{col}\") for col in cols]\n",
    "        # expr_first = [pl.first(col).alias(f\"first_{col}\") for col in cols]\n",
    "        expr_mean = [pl.mean(col).alias(f\"mean_{col}\") for col in cols]\n",
    "        expr_median = [pl.median(col).alias(f\"median_{col}\") for col in cols]\n",
    "\n",
    "        return expr_max + expr_last + expr_mean\n",
    "\n",
    "    def str_expr(df):\n",
    "        cols = [col for col in df.columns if col[-1] in (\"M\",)]\n",
    "        expr_max = [pl.max(col).alias(f\"max_{col}\") for col in cols]\n",
    "        # expr_min = [pl.min(col).alias(f\"min_{col}\") for col in cols]\n",
    "        expr_last = [pl.last(col).alias(f\"last_{col}\") for col in cols]\n",
    "        # expr_first = [pl.first(col).alias(f\"first_{col}\") for col in cols]\n",
    "        # expr_count = [pl.count(col).alias(f\"count_{col}\") for col in cols]\n",
    "        return expr_max + expr_last  # +expr_count\n",
    "\n",
    "    def other_expr(df):\n",
    "        cols = [col for col in df.columns if col[-1] in (\"T\", \"L\")]\n",
    "        expr_max = [pl.max(col).alias(f\"max_{col}\") for col in cols]\n",
    "        # expr_min = [pl.min(col).alias(f\"min_{col}\") for col in cols]\n",
    "        expr_last = [pl.last(col).alias(f\"last_{col}\") for col in cols]\n",
    "        # expr_first = [pl.first(col).alias(f\"first_{col}\") for col in cols]\n",
    "        return expr_max + expr_last\n",
    "\n",
    "    def count_expr(df):\n",
    "        cols = [col for col in df.columns if \"num_group\" in col]\n",
    "        expr_max = [pl.max(col).alias(f\"max_{col}\") for col in cols]\n",
    "        # expr_min = [pl.min(col).alias(f\"min_{col}\") for col in cols]\n",
    "        expr_last = [pl.last(col).alias(f\"last_{col}\") for col in cols]\n",
    "        # expr_first = [pl.first(col).alias(f\"first_{col}\") for col in cols]\n",
    "        return expr_max + expr_last\n",
    "\n",
    "    def get_exprs(df):\n",
    "        exprs = Aggregator.num_expr(df) + \\\n",
    "                Aggregator.date_expr(df) + \\\n",
    "                Aggregator.str_expr(df) + \\\n",
    "                Aggregator.other_expr(df) + \\\n",
    "                Aggregator.count_expr(df)\n",
    "\n",
    "        return exprs\n"
   ]
  },
  {
   "cell_type": "code",
   "execution_count": 4,
   "id": "14788e61",
   "metadata": {
    "execution": {
     "iopub.execute_input": "2024-09-12T04:53:21.399885Z",
     "iopub.status.busy": "2024-09-12T04:53:21.399626Z",
     "iopub.status.idle": "2024-09-12T04:53:21.406258Z",
     "shell.execute_reply": "2024-09-12T04:53:21.405443Z"
    },
    "id": "r66EKBMxrGBO",
    "papermill": {
     "duration": 0.014226,
     "end_time": "2024-09-12T04:53:21.408136",
     "exception": false,
     "start_time": "2024-09-12T04:53:21.393910",
     "status": "completed"
    },
    "tags": []
   },
   "outputs": [],
   "source": [
    "def read_file(path, depth=None):\n",
    "    df = pl.read_parquet(path)\n",
    "    df = df.pipe(Pipeline.set_table_dtypes)\n",
    "    if depth in [1,2]:\n",
    "        df = df.group_by(\"case_id\").agg(Aggregator.get_exprs(df))\n",
    "    return df\n",
    "\n",
    "\n",
    "def read_files(regex_path, depth=None):\n",
    "    chunks = []\n",
    "\n",
    "    for path in glob(str(regex_path)):\n",
    "        df = pl.read_parquet(path)\n",
    "        df = df.pipe(Pipeline.set_table_dtypes)\n",
    "        if depth in [1, 2]:\n",
    "            df = df.group_by(\"case_id\").agg(Aggregator.get_exprs(df))\n",
    "        chunks.append(df)\n",
    "\n",
    "    df = pl.concat(chunks, how=\"vertical_relaxed\")\n",
    "    df = df.unique(subset=[\"case_id\"])\n",
    "    return df"
   ]
  },
  {
   "cell_type": "code",
   "execution_count": 5,
   "id": "bdffaca4",
   "metadata": {
    "execution": {
     "iopub.execute_input": "2024-09-12T04:53:21.418673Z",
     "iopub.status.busy": "2024-09-12T04:53:21.418415Z",
     "iopub.status.idle": "2024-09-12T04:53:21.424855Z",
     "shell.execute_reply": "2024-09-12T04:53:21.424124Z"
    },
    "id": "5REYG56yrGBO",
    "papermill": {
     "duration": 0.01381,
     "end_time": "2024-09-12T04:53:21.426751",
     "exception": false,
     "start_time": "2024-09-12T04:53:21.412941",
     "status": "completed"
    },
    "tags": []
   },
   "outputs": [],
   "source": [
    "def feature_eng(df_base, depth_0, depth_1, depth_2):\n",
    "    df_base = (\n",
    "        df_base\n",
    "        .with_columns(\n",
    "            month_decision = pl.col(\"date_decision\").dt.month(),\n",
    "            weekday_decision = pl.col(\"date_decision\").dt.weekday(),\n",
    "        )\n",
    "    )\n",
    "    for i, df in enumerate(depth_0 + depth_1 + depth_2):\n",
    "        df_base = df_base.join(df, how=\"left\", on=\"case_id\", suffix=f\"_{i}\")\n",
    "    df_base = df_base.pipe(Pipeline.handle_dates)\n",
    "    return df_base\n",
    "\n",
    "\n",
    "def to_pandas(df_data, cat_cols=None):\n",
    "    df_data = df_data.to_pandas()\n",
    "    if cat_cols is None:\n",
    "        cat_cols = list(df_data.select_dtypes(\"object\").columns)\n",
    "    df_data[cat_cols] = df_data[cat_cols].astype(\"category\")\n",
    "    return df_data, cat_cols"
   ]
  },
  {
   "cell_type": "code",
   "execution_count": 6,
   "id": "94b9e9a5",
   "metadata": {
    "execution": {
     "iopub.execute_input": "2024-09-12T04:53:21.437475Z",
     "iopub.status.busy": "2024-09-12T04:53:21.437187Z",
     "iopub.status.idle": "2024-09-12T04:53:21.449434Z",
     "shell.execute_reply": "2024-09-12T04:53:21.448697Z"
    },
    "id": "PD_YWinprGBO",
    "papermill": {
     "duration": 0.019794,
     "end_time": "2024-09-12T04:53:21.451278",
     "exception": false,
     "start_time": "2024-09-12T04:53:21.431484",
     "status": "completed"
    },
    "tags": []
   },
   "outputs": [],
   "source": [
    "def reduce_mem_usage(df):\n",
    "    \"\"\" iterate through all the columns of a dataframe and modify the data type\n",
    "        to reduce memory usage.\n",
    "    \"\"\"\n",
    "    start_mem = df.memory_usage().sum() / 1024**2\n",
    "    print('Memory usage of dataframe is {:.2f} MB'.format(start_mem))\n",
    "\n",
    "    for col in df.columns:\n",
    "        col_type = df[col].dtype\n",
    "        if str(col_type)==\"category\":\n",
    "            continue\n",
    "\n",
    "        if col_type != object:\n",
    "            c_min = df[col].min()\n",
    "            c_max = df[col].max()\n",
    "            if str(col_type)[:3] == 'int':\n",
    "                if c_min > np.iinfo(np.int8).min and c_max < np.iinfo(np.int8).max:\n",
    "                    df[col] = df[col].astype(np.int8)\n",
    "                elif c_min > np.iinfo(np.int16).min and c_max < np.iinfo(np.int16).max:\n",
    "                    df[col] = df[col].astype(np.int16)\n",
    "                elif c_min > np.iinfo(np.int32).min and c_max < np.iinfo(np.int32).max:\n",
    "                    df[col] = df[col].astype(np.int32)\n",
    "                elif c_min > np.iinfo(np.int64).min and c_max < np.iinfo(np.int64).max:\n",
    "                    df[col] = df[col].astype(np.int64)\n",
    "            else:\n",
    "                if c_min > np.finfo(np.float16).min and c_max < np.finfo(np.float16).max:\n",
    "                    df[col] = df[col].astype(np.float16)\n",
    "                elif c_min > np.finfo(np.float32).min and c_max < np.finfo(np.float32).max:\n",
    "                    df[col] = df[col].astype(np.float32)\n",
    "                else:\n",
    "                    df[col] = df[col].astype(np.float64)\n",
    "        else:\n",
    "            continue\n",
    "    end_mem = df.memory_usage().sum() / 1024**2\n",
    "    print('Memory usage after optimization is: {:.2f} MB'.format(end_mem))\n",
    "    print('Decreased by {:.1f}%'.format(100 * (start_mem - end_mem) / start_mem))\n",
    "\n",
    "    return df"
   ]
  },
  {
   "cell_type": "code",
   "execution_count": 7,
   "id": "b9debe07",
   "metadata": {
    "execution": {
     "iopub.execute_input": "2024-09-12T04:53:21.461880Z",
     "iopub.status.busy": "2024-09-12T04:53:21.461620Z",
     "iopub.status.idle": "2024-09-12T04:55:37.320499Z",
     "shell.execute_reply": "2024-09-12T04:55:37.319536Z"
    },
    "id": "2hBg2OXprGBO",
    "outputId": "e5d26a8b-940c-4ecf-edeb-78fcd3539080",
    "papermill": {
     "duration": 135.870815,
     "end_time": "2024-09-12T04:55:37.326887",
     "exception": false,
     "start_time": "2024-09-12T04:53:21.456072",
     "status": "completed"
    },
    "tags": []
   },
   "outputs": [
    {
     "name": "stdout",
     "output_type": "stream",
     "text": [
      "CPU times: user 4min 55s, sys: 1min 39s, total: 6min 34s\n",
      "Wall time: 2min 15s\n"
     ]
    }
   ],
   "source": [
    "%%time\n",
    "\n",
    "ROOT            = Path(\"/kaggle/input/home-credit-credit-risk-model-stability\")\n",
    "\n",
    "TRAIN_DIR       = ROOT / \"parquet_files\" / \"train\"\n",
    "TEST_DIR        = ROOT / \"parquet_files\" / \"test\"\n",
    "\n",
    "data_store = {\n",
    "    \"df_base\": read_file(TRAIN_DIR / \"train_base.parquet\"),\n",
    "    \"depth_0\": [\n",
    "        read_file(TRAIN_DIR / \"train_static_cb_0.parquet\"),\n",
    "        read_files(TRAIN_DIR / \"train_static_0_*.parquet\"),\n",
    "    ],\n",
    "    \"depth_1\": [\n",
    "        read_files(TRAIN_DIR / \"train_applprev_1_*.parquet\", 1),\n",
    "        read_file(TRAIN_DIR / \"train_tax_registry_a_1.parquet\", 1),\n",
    "        read_file(TRAIN_DIR / \"train_tax_registry_b_1.parquet\", 1),\n",
    "        read_file(TRAIN_DIR / \"train_tax_registry_c_1.parquet\", 1),\n",
    "        read_files(TRAIN_DIR / \"train_credit_bureau_a_1_*.parquet\", 1),\n",
    "        read_file(TRAIN_DIR / \"train_credit_bureau_b_1.parquet\", 1),\n",
    "        read_file(TRAIN_DIR / \"train_other_1.parquet\", 1),\n",
    "        read_file(TRAIN_DIR / \"train_person_1.parquet\", 1),\n",
    "        read_file(TRAIN_DIR / \"train_deposit_1.parquet\", 1),\n",
    "        read_file(TRAIN_DIR / \"train_debitcard_1.parquet\", 1),\n",
    "    ],\n",
    "    \"depth_2\": [\n",
    "        read_file(TRAIN_DIR / \"train_credit_bureau_b_2.parquet\", 2),\n",
    "        read_files(TRAIN_DIR / \"train_credit_bureau_a_2_*.parquet\", 2),\n",
    "        read_file(TRAIN_DIR / \"train_applprev_2.parquet\", 2),\n",
    "        read_file(TRAIN_DIR / \"train_person_2.parquet\", 2)\n",
    "    ]\n",
    "}"
   ]
  },
  {
   "cell_type": "code",
   "execution_count": 8,
   "id": "32488e65",
   "metadata": {
    "execution": {
     "iopub.execute_input": "2024-09-12T04:55:37.337975Z",
     "iopub.status.busy": "2024-09-12T04:55:37.337671Z",
     "iopub.status.idle": "2024-09-12T04:55:58.564536Z",
     "shell.execute_reply": "2024-09-12T04:55:58.563641Z"
    },
    "id": "QkAmNEHvrGBO",
    "outputId": "38982c49-83e6-450b-e4fb-c291db6c5ec2",
    "papermill": {
     "duration": 21.235029,
     "end_time": "2024-09-12T04:55:58.566792",
     "exception": false,
     "start_time": "2024-09-12T04:55:37.331763",
     "status": "completed"
    },
    "tags": []
   },
   "outputs": [
    {
     "name": "stdout",
     "output_type": "stream",
     "text": [
      "train data shape:\t (1526659, 861)\n",
      "CPU times: user 36.5 s, sys: 12.2 s, total: 48.7 s\n",
      "Wall time: 21.2 s\n"
     ]
    },
    {
     "data": {
      "text/plain": [
       "0"
      ]
     },
     "execution_count": 8,
     "metadata": {},
     "output_type": "execute_result"
    }
   ],
   "source": [
    "%%time\n",
    "\n",
    "df_train = feature_eng(**data_store)\n",
    "print(\"train data shape:\\t\", df_train.shape)\n",
    "del data_store\n",
    "df_train = df_train.pipe(Pipeline.filter_cols)\n",
    "gc.collect()"
   ]
  },
  {
   "cell_type": "code",
   "execution_count": 9,
   "id": "7f6df894",
   "metadata": {
    "execution": {
     "iopub.execute_input": "2024-09-12T04:55:58.578727Z",
     "iopub.status.busy": "2024-09-12T04:55:58.578439Z",
     "iopub.status.idle": "2024-09-12T04:57:35.430234Z",
     "shell.execute_reply": "2024-09-12T04:57:35.429174Z"
    },
    "id": "qRgYGmvCrGBP",
    "outputId": "86f0bb55-b115-4956-d006-5d0939ff1b3c",
    "papermill": {
     "duration": 96.86084,
     "end_time": "2024-09-12T04:57:35.432966",
     "exception": false,
     "start_time": "2024-09-12T04:55:58.572126",
     "status": "completed"
    },
    "scrolled": true,
    "tags": []
   },
   "outputs": [
    {
     "name": "stdout",
     "output_type": "stream",
     "text": [
      "Memory usage of dataframe is 6410.58 MB\n",
      "Memory usage after optimization is: 2320.86 MB\n",
      "Decreased by 63.8%\n",
      "train data shape:\t (1526659, 681)\n",
      "Use these ['case_id', 'WEEK_NUM', 'target', 'month_decision', 'weekday_decision', 'credamount_770A', 'applicationcnt_361L', 'applications30d_658L', 'applicationscnt_1086L', 'applicationscnt_464L', 'applicationscnt_867L', 'clientscnt_1022L', 'clientscnt_100L', 'clientscnt_1071L', 'clientscnt_1130L', 'clientscnt_157L', 'clientscnt_257L', 'clientscnt_304L', 'clientscnt_360L', 'clientscnt_493L', 'clientscnt_533L', 'clientscnt_887L', 'clientscnt_946L', 'deferredmnthsnum_166L', 'disbursedcredamount_1113A', 'downpmt_116A', 'homephncnt_628L', 'isbidproduct_1095L', 'mobilephncnt_593L', 'numactivecreds_622L', 'numactivecredschannel_414L', 'numactiverelcontr_750L', 'numcontrs3months_479L', 'numnotactivated_1143L', 'numpmtchanneldd_318L', 'numrejects9m_859L', 'sellerplacecnt_915L', 'max_mainoccupationinc_384A', 'max_birth_259D', 'max_num_group1_9']\n",
      "####### NAN count = 0\n",
      "####### NAN count = 1389663\n",
      "Use these ['assignmentdate_4527235D', 'pmtaverage_4527227A', 'pmtcount_4527229L']\n",
      "####### NAN count = 1411681\n",
      "####### NAN count = 1455026\n",
      "####### NAN count = 918788\n",
      "Use these ['contractssum_5085716L']\n",
      "####### NAN count = 1369330\n",
      "Use these ['dateofbirth_337D', 'days180_256L', 'days30_165L', 'days360_512L', 'firstquarter_103L', 'fourthquarter_440L', 'secondquarter_766L', 'thirdquarter_1082L', 'max_debtoutstand_525A', 'max_debtoverdue_47A', 'max_refreshdate_3813885D', 'mean_refreshdate_3813885D']\n",
      "####### NAN count = 140968\n",
      "Use these ['dateofbirth_342D', 'max_num_group1_7', 'last_num_group1_7']\n",
      "####### NAN count = 1490159\n",
      "Use these ['for3years_128L', 'for3years_504L', 'for3years_584L', 'formonth_118L', 'formonth_206L', 'formonth_535L', 'forquarter_1017L', 'forquarter_462L', 'forquarter_634L', 'fortoday_1092L', 'forweek_1077L', 'forweek_528L', 'forweek_601L', 'foryear_818L']\n",
      "####### NAN count = 1490145\n",
      "####### NAN count = 1383070\n",
      "Use these ['pmtaverage_4955615A', 'pmtcount_4955617L']\n",
      "####### NAN count = 1454814\n",
      "####### NAN count = 1380253\n",
      "Use these ['pmtscount_423L', 'pmtssum_45A']\n",
      "####### NAN count = 954021\n",
      "####### NAN count = 806659\n",
      "####### NAN count = 866332\n",
      "####### NAN count = 1301747\n",
      "####### NAN count = 1473099\n",
      "####### NAN count = 418178\n",
      "Use these ['amtinstpaidbefduel24m_4187115A', 'numinstlswithdpd5_4187116L']\n",
      "####### NAN count = 561124\n",
      "Use these ['annuitynextmonth_57A', 'currdebt_22A', 'currdebtcredtyperange_828A', 'numinstls_657L', 'totalsettled_863A']\n",
      "####### NAN count = 4\n",
      "Use these ['mindbddpdlast24m_3658935P']\n",
      "####### NAN count = 613202\n",
      "####### NAN count = 948244\n",
      "Use these ['mindbdtollast24m_4525191P']\n",
      "####### NAN count = 972827\n",
      "####### NAN count = 467175\n",
      "Use these ['avginstallast24m_3658937A', 'maxinstallast24m_3658928A']\n",
      "####### NAN count = 624875\n",
      "####### NAN count = 1364150\n",
      "####### NAN count = 757006\n",
      "####### NAN count = 841181\n",
      "####### NAN count = 1026987\n",
      "####### NAN count = 455190\n",
      "####### NAN count = 460822\n",
      "Use these ['commnoinclast6m_3546845L', 'maxdpdfrom6mto36m_3546853P']\n",
      "####### NAN count = 343375\n",
      "####### NAN count = 833735\n",
      "####### NAN count = 1392841\n",
      "####### NAN count = 887659\n",
      "Use these ['daysoverduetolerancedd_3976961L', 'numinsttopaygr_769L']\n",
      "####### NAN count = 452594\n",
      "####### NAN count = 977119\n",
      "Use these ['eir_270L']\n",
      "####### NAN count = 190833\n",
      "####### NAN count = 859214\n",
      "####### NAN count = 482103\n",
      "####### NAN count = 1334357\n",
      "####### NAN count = 453587\n",
      "Use these ['lastapplicationdate_877D', 'mean_creationdate_885D', 'max_num_group1', 'last_num_group1', 'max_num_group2_14', 'last_num_group2_14']\n",
      "####### NAN count = 305137\n",
      "Use these ['lastapprcredamount_781A', 'lastapprdate_640D']\n",
      "####### NAN count = 442041\n",
      "####### NAN count = 977975\n",
      "Use these ['lastrejectcredamount_222A', 'lastrejectdate_50D']\n",
      "####### NAN count = 769046\n",
      "####### NAN count = 511255\n",
      "Use these ['mastercontrelectronic_519L', 'mastercontrexist_109L', 'maxannuity_159A', 'maxdebt4_972A', 'maxdpdlast24m_143P', 'maxdpdlast3m_392P', 'maxdpdtolerance_374P']\n",
      "####### NAN count = 306019\n",
      "####### NAN count = 1450726\n",
      "####### NAN count = 960953\n",
      "####### NAN count = 705504\n",
      "####### NAN count = 876276\n",
      "####### NAN count = 826000\n",
      "####### NAN count = 829402\n",
      "####### NAN count = 1032856\n",
      "####### NAN count = 766958\n",
      "####### NAN count = 1129330\n",
      "Use these ['numinstpaidearly_338L', 'numinstpaidearly5d_1087L', 'numinstpaidlate1d_3546852L']\n",
      "####### NAN count = 452593\n",
      "####### NAN count = 455081\n",
      "Use these ['numinstlsallpaid_934L']\n",
      "####### NAN count = 445669\n",
      "Use these ['numinstlswithdpd10_728L', 'numinstlswithoutdpd_562L']\n",
      "####### NAN count = 456495\n",
      "Use these ['numinstpaid_4499208L']\n",
      "####### NAN count = 847191\n",
      "####### NAN count = 446983\n",
      "Use these ['numinstregularpaidest_4493210L', 'numinstpaidearly5dest_4493211L', 'sumoutstandtotalest_4493215A']\n",
      "####### NAN count = 840646\n",
      "####### NAN count = 669186\n",
      "####### NAN count = 455612\n",
      "Use these ['pctinstlsallpaidearl3d_427L', 'pctinstlsallpaidlate1d_3546856L']\n",
      "####### NAN count = 458738\n",
      "####### NAN count = 461362\n",
      "####### NAN count = 459827\n",
      "####### NAN count = 460079\n",
      "####### NAN count = 44954\n",
      "####### NAN count = 78526\n",
      "####### NAN count = 131888\n",
      "####### NAN count = 181122\n",
      "####### NAN count = 223240\n",
      "####### NAN count = 445320\n",
      "####### NAN count = 3\n",
      "####### NAN count = 1174211\n",
      "####### NAN count = 1374886\n",
      "Use these ['mean_actualdpd_943P']\n",
      "####### NAN count = 305154\n",
      "Use these ['max_annuity_853A', 'mean_annuity_853A']\n",
      "####### NAN count = 308739\n",
      "Use these ['mean_credacc_actualbalance_314A', 'mean_credacc_maxhisbal_375A', 'mean_credacc_minhisbal_90A', 'max_credacc_transactions_402L']\n",
      "####### NAN count = 1273086\n",
      "Use these ['max_credacc_credlmt_575A', 'max_credamount_590A', 'max_downpmt_134A', 'mean_credacc_credlmt_575A', 'mean_credamount_590A', 'mean_downpmt_134A']\n",
      "####### NAN count = 307441\n",
      "Use these ['max_currdebt_94A', 'mean_currdebt_94A']\n",
      "####### NAN count = 419006\n",
      "Use these ['max_mainoccupationinc_437A', 'mean_mainoccupationinc_437A']\n",
      "####### NAN count = 306361\n",
      "Use these ['mean_maxdpdtolerance_577P']\n",
      "####### NAN count = 450969\n",
      "Use these ['max_outstandingdebt_522A', 'mean_outstandingdebt_522A']\n",
      "####### NAN count = 420383\n",
      "Use these ['mean_revolvingaccount_394A']\n",
      "####### NAN count = 1273082\n",
      "####### NAN count = 307551\n",
      "####### NAN count = 477657\n",
      "Use these ['last_credacc_actualbalance_314A', 'last_credacc_maxhisbal_375A', 'last_credacc_minhisbal_90A', 'last_credacc_transactions_402L']\n",
      "####### NAN count = 1444392\n",
      "####### NAN count = 433335\n",
      "Use these ['last_credamount_590A', 'last_downpmt_134A']\n",
      "####### NAN count = 438219\n",
      "####### NAN count = 824731\n",
      "####### NAN count = 312491\n",
      "####### NAN count = 899665\n",
      "####### NAN count = 827764\n",
      "####### NAN count = 1480955\n",
      "Use these ['max_approvaldate_319D', 'mean_approvaldate_319D']\n",
      "####### NAN count = 442999\n",
      "Use these ['max_dateactivated_425D', 'mean_dateactivated_425D']\n",
      "####### NAN count = 454678\n",
      "Use these ['max_dtlastpmt_581D', 'mean_dtlastpmt_581D']\n",
      "####### NAN count = 703840\n",
      "Use these ['max_dtlastpmtallstes_3545839D', 'mean_dtlastpmtallstes_3545839D']\n",
      "####### NAN count = 548987\n",
      "Use these ['max_employedfrom_700D']\n",
      "####### NAN count = 559169\n",
      "Use these ['max_firstnonzeroinstldate_307D', 'mean_firstnonzeroinstldate_307D']\n",
      "####### NAN count = 334873\n",
      "####### NAN count = 891021\n",
      "####### NAN count = 305203\n",
      "####### NAN count = 920818\n",
      "####### NAN count = 1199239\n",
      "####### NAN count = 1016761\n",
      "####### NAN count = 1050001\n",
      "####### NAN count = 485683\n",
      "####### NAN count = 961606\n",
      "####### NAN count = 552766\n",
      "Use these ['max_pmtnum_8L']\n",
      "####### NAN count = 321446\n",
      "####### NAN count = 1351286\n",
      "####### NAN count = 1127623\n",
      "Use these ['last_pmtnum_8L']\n",
      "####### NAN count = 482174\n",
      "Use these ['max_amount_4527230A', 'max_recorddate_4527225D', 'max_num_group1_3', 'last_num_group1_3']\n",
      "####### NAN count = 1068725\n",
      "Use these ['mean_amount_4917619A', 'max_deductiondate_4917603D', 'last_deductiondate_4917603D', 'mean_deductiondate_4917603D', 'max_num_group1_4', 'last_num_group1_4']\n",
      "####### NAN count = 1375927\n",
      "Use these ['max_pmtamount_36A', 'last_pmtamount_36A', 'max_processingdate_168D', 'last_processingdate_168D', 'max_num_group1_5']\n",
      "####### NAN count = 1044394\n",
      "Use these ['mean_credlmt_230A']\n",
      "####### NAN count = 1036944\n",
      "Use these ['mean_credlmt_935A']\n",
      "####### NAN count = 603001\n",
      "Use these ['mean_pmts_dpd_1073P', 'max_dpdmaxdatemonth_89T', 'max_dpdmaxdateyear_596T']\n",
      "####### NAN count = 263166\n",
      "Use these ['max_pmts_dpd_303P', 'mean_dpdmax_757P', 'max_dpdmaxdatemonth_442T', 'max_dpdmaxdateyear_896T', 'mean_pmts_dpd_303P']\n",
      "####### NAN count = 514070\n",
      "Use these ['mean_instlamount_768A']\n",
      "####### NAN count = 606920\n",
      "Use these ['mean_instlamount_852A']\n",
      "####### NAN count = 1136162\n",
      "Use these ['mean_monthlyinstlamount_332A']\n",
      "####### NAN count = 263233\n",
      "Use these ['max_monthlyinstlamount_674A', 'mean_monthlyinstlamount_674A']\n",
      "####### NAN count = 517511\n",
      "Use these ['mean_outstandingamount_354A']\n",
      "####### NAN count = 545885\n",
      "Use these ['mean_outstandingamount_362A']\n",
      "####### NAN count = 636453\n",
      "Use these ['mean_overdueamount_31A']\n",
      "####### NAN count = 512650\n",
      "Use these ['mean_overdueamount_659A', 'max_numberofoverdueinstls_725L']\n",
      "####### NAN count = 263171\n",
      "Use these ['mean_overdueamountmax2_14A', 'mean_totaloutstanddebtvalue_39A', 'mean_dateofcredend_289D', 'mean_dateofcredstart_739D', 'max_lastupdate_1112D', 'mean_lastupdate_1112D', 'max_numberofcontrsvalue_258L', 'max_numberofoverdueinstlmax_1039L', 'max_overdueamountmaxdatemonth_365T', 'max_overdueamountmaxdateyear_2T', 'mean_pmts_overdue_1140A', 'max_pmts_month_158T', 'max_pmts_year_1139T']\n",
      "####### NAN count = 262653\n",
      "Use these ['mean_overdueamountmax2_398A', 'max_dateofcredend_353D', 'max_dateofcredstart_181D', 'mean_dateofcredend_353D', 'max_numberofoverdueinstlmax_1151L']\n",
      "####### NAN count = 512590\n",
      "Use these ['mean_overdueamountmax_35A', 'max_overdueamountmaxdatemonth_284T', 'max_overdueamountmaxdateyear_994T', 'mean_pmts_overdue_1152A']\n",
      "####### NAN count = 513987\n",
      "Use these ['max_residualamount_488A']\n",
      "####### NAN count = 1039597\n",
      "Use these ['mean_residualamount_856A']\n",
      "####### NAN count = 606900\n",
      "Use these ['max_totalamount_6A', 'mean_totalamount_6A']\n",
      "####### NAN count = 545855\n",
      "Use these ['mean_totalamount_996A']\n",
      "####### NAN count = 636448\n",
      "Use these ['mean_totaldebtoverduevalue_718A', 'mean_totaloutstanddebtvalue_668A', 'max_numberofcontrsvalue_358L']\n",
      "####### NAN count = 297072\n",
      "Use these ['max_dateofrealrepmt_138D', 'mean_dateofrealrepmt_138D']\n",
      "####### NAN count = 512961\n",
      "Use these ['max_lastupdate_388D', 'mean_lastupdate_388D']\n",
      "####### NAN count = 512591\n",
      "Use these ['max_numberofoverdueinstlmaxdat_148D']\n",
      "####### NAN count = 802351\n",
      "Use these ['mean_numberofoverdueinstlmaxdat_641D']\n",
      "####### NAN count = 1012361\n",
      "Use these ['mean_overdueamountmax2date_1002D']\n",
      "####### NAN count = 806653\n",
      "Use these ['max_overdueamountmax2date_1142D']\n",
      "####### NAN count = 1007594\n",
      "####### NAN count = 553734\n",
      "####### NAN count = 1237917\n",
      "####### NAN count = 1270160\n",
      "####### NAN count = 1478888\n",
      "####### NAN count = 822517\n",
      "####### NAN count = 745109\n",
      "####### NAN count = 545898\n",
      "####### NAN count = 636545\n",
      "####### NAN count = 545895\n",
      "####### NAN count = 636544\n",
      "####### NAN count = 512657\n",
      "####### NAN count = 561307\n",
      "####### NAN count = 649082\n",
      "####### NAN count = 1436524\n",
      "####### NAN count = 1492551\n",
      "Use these ['last_num_group1_6']\n",
      "####### NAN count = 140386\n",
      "Use these ['mean_debtpastduevalue_732A', 'mean_pmtdaysoverdue_1135P']\n",
      "####### NAN count = 1490245\n",
      "Use these ['mean_dpd_550P', 'mean_installmentamount_833A', 'mean_totalamount_503A', 'mean_contractdate_551D', 'max_pmts_date_1107D', 'mean_lastupdate_260D', 'max_num_group1_12', 'last_pmts_date_1107D', 'mean_pmts_date_1107D', 'max_num_group2', 'last_num_group2']\n",
      "####### NAN count = 1490212\n",
      "Use these ['max_installmentamount_644A', 'mean_totalamount_881A', 'max_credquantity_984L']\n",
      "####### NAN count = 1495366\n",
      "Use these ['mean_dpdmax_851P', 'mean_pmts_pmtsoverdue_635A', 'max_dpdmaxdatemonth_804T', 'max_dpdmaxdateyear_742T', 'mean_pmts_dpdvalue_108P']\n",
      "####### NAN count = 1490244\n",
      "Use these ['last_debtpastduevalue_732A', 'last_pmtdaysoverdue_1135P']\n",
      "####### NAN count = 1494447\n",
      "Use these ['last_dpdmax_851P', 'last_overdueamountmax_950A', 'last_dpdmaxdatemonth_804T', 'last_dpdmaxdateyear_742T']\n",
      "####### NAN count = 1494444\n",
      "Use these ['max_contractmaturitydate_151D']\n",
      "####### NAN count = 1490235\n",
      "Use these ['last_contractdate_551D', 'last_lastupdate_260D']\n",
      "####### NAN count = 1494033\n",
      "####### NAN count = 1494064\n",
      "Use these ['max_amtdebitincoming_4809443A', 'max_amtdepositbalance_4809441A', 'max_amtdepositoutgoing_4809442A', 'max_num_group1_8', 'last_num_group1_8']\n",
      "####### NAN count = 1475550\n",
      "Use these ['last_mainoccupationinc_384A', 'last_birth_259D']\n",
      "####### NAN count = 750301\n",
      "Use these ['max_empl_employedfrom_271D']\n",
      "####### NAN count = 959958\n",
      "Use these ['last_personindex_1023L']\n",
      "####### NAN count = 587206\n",
      "####### NAN count = 772\n",
      "Use these ['mean_amount_416A', 'mean_openingdate_313D', 'max_num_group1_10']\n",
      "####### NAN count = 1421548\n",
      "Use these ['mean_contractenddate_991D']\n",
      "####### NAN count = 1467040\n",
      "####### NAN count = 1474063\n",
      "Use these ['mean_openingdate_857D']\n",
      "####### NAN count = 1421572\n",
      "####### NAN count = 1421969\n",
      "Use these ['max_num_group1_11']\n",
      "####### NAN count = 1414887\n",
      "Use these ['last_pmts_dpdvalue_108P', 'last_pmts_pmtsoverdue_635A']\n",
      "####### NAN count = 1490272\n",
      "####### NAN count = 1484773\n",
      "####### NAN count = 1456381\n",
      "####### NAN count = 1484710\n",
      "####### NAN count = 1456244\n",
      "####### NAN count = 262659\n",
      "####### NAN count = 512884\n",
      "Use these ['max_pmts_month_706T', 'max_pmts_year_507T']\n",
      "####### NAN count = 512598\n",
      "Use these ['last_pmts_month_158T', 'last_pmts_year_1139T']\n",
      "####### NAN count = 994041\n",
      "Use these ['last_pmts_month_706T', 'last_pmts_year_507T']\n",
      "####### NAN count = 634357\n",
      "Use these ['max_num_group1_13', 'max_num_group2_13', 'last_num_group2_13']\n",
      "####### NAN count = 141371\n",
      "Use these ['max_num_group1_15', 'max_num_group2_15']\n",
      "####### NAN count = 91554\n",
      "['case_id', 'WEEK_NUM', 'target', 'month_decision', 'weekday_decision', 'credamount_770A', 'applicationcnt_361L', 'applications30d_658L', 'applicationscnt_1086L', 'applicationscnt_464L', 'applicationscnt_867L', 'clientscnt_1022L', 'clientscnt_100L', 'clientscnt_1071L', 'clientscnt_1130L', 'clientscnt_157L', 'clientscnt_257L', 'clientscnt_304L', 'clientscnt_360L', 'clientscnt_493L', 'clientscnt_533L', 'clientscnt_887L', 'clientscnt_946L', 'deferredmnthsnum_166L', 'disbursedcredamount_1113A', 'downpmt_116A', 'homephncnt_628L', 'isbidproduct_1095L', 'mobilephncnt_593L', 'numactivecreds_622L', 'numactivecredschannel_414L', 'numactiverelcontr_750L', 'numcontrs3months_479L', 'numnotactivated_1143L', 'numpmtchanneldd_318L', 'numrejects9m_859L', 'sellerplacecnt_915L', 'max_mainoccupationinc_384A', 'max_birth_259D', 'max_num_group1_9', 'assignmentdate_238D', 'assignmentdate_4527235D', 'pmtaverage_4527227A', 'pmtcount_4527229L', 'assignmentdate_4955616D', 'birthdate_574D', 'contractssum_5085716L', 'dateofbirth_337D', 'days180_256L', 'days30_165L', 'days360_512L', 'firstquarter_103L', 'fourthquarter_440L', 'secondquarter_766L', 'thirdquarter_1082L', 'max_debtoutstand_525A', 'max_debtoverdue_47A', 'max_refreshdate_3813885D', 'mean_refreshdate_3813885D', 'dateofbirth_342D', 'max_num_group1_7', 'last_num_group1_7', 'for3years_128L', 'for3years_504L', 'for3years_584L', 'formonth_118L', 'formonth_206L', 'formonth_535L', 'forquarter_1017L', 'forquarter_462L', 'forquarter_634L', 'fortoday_1092L', 'forweek_1077L', 'forweek_528L', 'forweek_601L', 'foryear_818L', 'pmtaverage_3A', 'pmtaverage_4955615A', 'pmtcount_4955617L', 'pmtcount_693L', 'pmtscount_423L', 'pmtssum_45A', 'responsedate_1012D', 'responsedate_4527233D', 'responsedate_4917613D', 'riskassesment_940T', 'actualdpdtolerance_344P', 'amtinstpaidbefduel24m_4187115A', 'numinstlswithdpd5_4187116L', 'annuitynextmonth_57A', 'currdebt_22A', 'currdebtcredtyperange_828A', 'numinstls_657L', 'totalsettled_863A', 'mindbddpdlast24m_3658935P', 'avgdbddpdlast3m_4187120P', 'mindbdtollast24m_4525191P', 'avgdpdtolclosure24_3658938P', 'avginstallast24m_3658937A', 'maxinstallast24m_3658928A', 'avglnamtstart24m_4525187A', 'avgmaxdpdlast9m_3716943P', 'avgoutstandbalancel6m_4187114A', 'avgpmtlast12m_4525200A', 'cntincpaycont9m_3716944L', 'cntpmts24_3658933L', 'commnoinclast6m_3546845L', 'maxdpdfrom6mto36m_3546853P', 'datefirstoffer_1144D', 'datelastinstal40dpd_247D', 'datelastunpaid_3546854D', 'daysoverduetolerancedd_3976961L', 'numinsttopaygr_769L', 'dtlastpmtallstes_4499206D', 'eir_270L', 'firstclxcampaign_1125D', 'firstdatedue_489D', 'inittransactionamount_650A', 'lastactivateddate_801D', 'lastapplicationdate_877D', 'mean_creationdate_885D', 'max_num_group1', 'last_num_group1', 'max_num_group2_14', 'last_num_group2_14', 'lastapprcredamount_781A', 'lastapprdate_640D', 'lastdelinqdate_224D', 'lastrejectcredamount_222A', 'lastrejectdate_50D', 'maininc_215A', 'mastercontrelectronic_519L', 'mastercontrexist_109L', 'maxannuity_159A', 'maxdebt4_972A', 'maxdpdlast24m_143P', 'maxdpdlast3m_392P', 'maxdpdtolerance_374P', 'maxannuity_4075009A', 'maxdbddpdlast1m_3658939P', 'maxdbddpdtollast12m_3658940P', 'maxdbddpdtollast6m_4187119P', 'maxdpdinstldate_3546855D', 'maxdpdinstlnum_3546846P', 'maxlnamtstart6m_4525199A', 'maxoutstandbalancel12m_4187113A', 'maxpmtlast3m_4525190A', 'numinstpaidearly_338L', 'numinstpaidearly5d_1087L', 'numinstpaidlate1d_3546852L', 'numincomingpmts_3546848L', 'numinstlsallpaid_934L', 'numinstlswithdpd10_728L', 'numinstlswithoutdpd_562L', 'numinstpaid_4499208L', 'numinstpaidearly3d_3546850L', 'numinstregularpaidest_4493210L', 'numinstpaidearly5dest_4493211L', 'sumoutstandtotalest_4493215A', 'numinstpaidlastcontr_4325080L', 'numinstregularpaid_973L', 'pctinstlsallpaidearl3d_427L', 'pctinstlsallpaidlate1d_3546856L', 'pctinstlsallpaidlat10d_839L', 'pctinstlsallpaidlate4d_3546849L', 'pctinstlsallpaidlate6d_3546844L', 'pmtnum_254L', 'posfpd10lastmonth_333P', 'posfpd30lastmonth_3976960P', 'posfstqpd30lastmonth_3976962P', 'price_1097A', 'sumoutstandtotal_3546847A', 'totaldebt_9A', 'totinstallast1m_4525188A', 'validfrom_1069D', 'mean_actualdpd_943P', 'max_annuity_853A', 'mean_annuity_853A', 'mean_credacc_actualbalance_314A', 'mean_credacc_maxhisbal_375A', 'mean_credacc_minhisbal_90A', 'max_credacc_transactions_402L', 'max_credacc_credlmt_575A', 'max_credamount_590A', 'max_downpmt_134A', 'mean_credacc_credlmt_575A', 'mean_credamount_590A', 'mean_downpmt_134A', 'max_currdebt_94A', 'mean_currdebt_94A', 'max_mainoccupationinc_437A', 'mean_mainoccupationinc_437A', 'mean_maxdpdtolerance_577P', 'max_outstandingdebt_522A', 'mean_outstandingdebt_522A', 'mean_revolvingaccount_394A', 'last_actualdpd_943P', 'last_annuity_853A', 'last_credacc_actualbalance_314A', 'last_credacc_maxhisbal_375A', 'last_credacc_minhisbal_90A', 'last_credacc_transactions_402L', 'last_credacc_credlmt_575A', 'last_credamount_590A', 'last_downpmt_134A', 'last_currdebt_94A', 'last_mainoccupationinc_437A', 'last_maxdpdtolerance_577P', 'last_outstandingdebt_522A', 'last_revolvingaccount_394A', 'max_approvaldate_319D', 'mean_approvaldate_319D', 'max_dateactivated_425D', 'mean_dateactivated_425D', 'max_dtlastpmt_581D', 'mean_dtlastpmt_581D', 'max_dtlastpmtallstes_3545839D', 'mean_dtlastpmtallstes_3545839D', 'max_employedfrom_700D', 'max_firstnonzeroinstldate_307D', 'mean_firstnonzeroinstldate_307D', 'last_approvaldate_319D', 'last_creationdate_885D', 'last_dateactivated_425D', 'last_dtlastpmt_581D', 'last_dtlastpmtallstes_3545839D', 'last_employedfrom_700D', 'last_firstnonzeroinstldate_307D', 'max_byoccupationinc_3656910L', 'max_childnum_21L', 'max_pmtnum_8L', 'last_byoccupationinc_3656910L', 'last_childnum_21L', 'last_pmtnum_8L', 'max_amount_4527230A', 'max_recorddate_4527225D', 'max_num_group1_3', 'last_num_group1_3', 'mean_amount_4917619A', 'max_deductiondate_4917603D', 'last_deductiondate_4917603D', 'mean_deductiondate_4917603D', 'max_num_group1_4', 'last_num_group1_4', 'max_pmtamount_36A', 'last_pmtamount_36A', 'max_processingdate_168D', 'last_processingdate_168D', 'max_num_group1_5', 'mean_credlmt_230A', 'mean_credlmt_935A', 'mean_pmts_dpd_1073P', 'max_dpdmaxdatemonth_89T', 'max_dpdmaxdateyear_596T', 'max_pmts_dpd_303P', 'mean_dpdmax_757P', 'max_dpdmaxdatemonth_442T', 'max_dpdmaxdateyear_896T', 'mean_pmts_dpd_303P', 'mean_instlamount_768A', 'mean_instlamount_852A', 'mean_monthlyinstlamount_332A', 'max_monthlyinstlamount_674A', 'mean_monthlyinstlamount_674A', 'mean_outstandingamount_354A', 'mean_outstandingamount_362A', 'mean_overdueamount_31A', 'mean_overdueamount_659A', 'max_numberofoverdueinstls_725L', 'mean_overdueamountmax2_14A', 'mean_totaloutstanddebtvalue_39A', 'mean_dateofcredend_289D', 'mean_dateofcredstart_739D', 'max_lastupdate_1112D', 'mean_lastupdate_1112D', 'max_numberofcontrsvalue_258L', 'max_numberofoverdueinstlmax_1039L', 'max_overdueamountmaxdatemonth_365T', 'max_overdueamountmaxdateyear_2T', 'mean_pmts_overdue_1140A', 'max_pmts_month_158T', 'max_pmts_year_1139T', 'mean_overdueamountmax2_398A', 'max_dateofcredend_353D', 'max_dateofcredstart_181D', 'mean_dateofcredend_353D', 'max_numberofoverdueinstlmax_1151L', 'mean_overdueamountmax_35A', 'max_overdueamountmaxdatemonth_284T', 'max_overdueamountmaxdateyear_994T', 'mean_pmts_overdue_1152A', 'max_residualamount_488A', 'mean_residualamount_856A', 'max_totalamount_6A', 'mean_totalamount_6A', 'mean_totalamount_996A', 'mean_totaldebtoverduevalue_718A', 'mean_totaloutstanddebtvalue_668A', 'max_numberofcontrsvalue_358L', 'max_dateofrealrepmt_138D', 'mean_dateofrealrepmt_138D', 'max_lastupdate_388D', 'mean_lastupdate_388D', 'max_numberofoverdueinstlmaxdat_148D', 'mean_numberofoverdueinstlmaxdat_641D', 'mean_overdueamountmax2date_1002D', 'max_overdueamountmax2date_1142D', 'last_refreshdate_3813885D', 'max_annualeffectiverate_199L', 'max_annualeffectiverate_63L', 'max_interestrate_508L', 'max_nominalrate_281L', 'max_nominalrate_498L', 'max_numberofinstls_229L', 'max_numberofinstls_320L', 'max_numberofoutstandinstls_520L', 'max_numberofoutstandinstls_59L', 'max_numberofoverdueinstls_834L', 'max_periodicityofpmts_1102L', 'max_periodicityofpmts_837L', 'max_prolongationcount_1120L', 'max_prolongationcount_599L', 'last_num_group1_6', 'mean_debtpastduevalue_732A', 'mean_pmtdaysoverdue_1135P', 'mean_dpd_550P', 'mean_installmentamount_833A', 'mean_totalamount_503A', 'mean_contractdate_551D', 'max_pmts_date_1107D', 'mean_lastupdate_260D', 'max_num_group1_12', 'last_pmts_date_1107D', 'mean_pmts_date_1107D', 'max_num_group2', 'last_num_group2', 'max_installmentamount_644A', 'mean_totalamount_881A', 'max_credquantity_984L', 'mean_dpdmax_851P', 'mean_pmts_pmtsoverdue_635A', 'max_dpdmaxdatemonth_804T', 'max_dpdmaxdateyear_742T', 'mean_pmts_dpdvalue_108P', 'last_debtpastduevalue_732A', 'last_pmtdaysoverdue_1135P', 'last_dpdmax_851P', 'last_overdueamountmax_950A', 'last_dpdmaxdatemonth_804T', 'last_dpdmaxdateyear_742T', 'max_contractmaturitydate_151D', 'last_contractdate_551D', 'last_lastupdate_260D', 'last_contractmaturitydate_151D', 'max_amtdebitincoming_4809443A', 'max_amtdepositbalance_4809441A', 'max_amtdepositoutgoing_4809442A', 'max_num_group1_8', 'last_num_group1_8', 'last_mainoccupationinc_384A', 'last_birth_259D', 'max_empl_employedfrom_271D', 'last_personindex_1023L', 'last_persontype_1072L', 'mean_amount_416A', 'mean_openingdate_313D', 'max_num_group1_10', 'mean_contractenddate_991D', 'last_contractenddate_991D', 'mean_openingdate_857D', 'last_openingdate_857D', 'max_num_group1_11', 'last_pmts_dpdvalue_108P', 'last_pmts_pmtsoverdue_635A', 'last_pmts_dpd_1073P', 'last_pmts_dpd_303P', 'last_pmts_overdue_1140A', 'last_pmts_overdue_1152A', 'max_collater_valueofguarantee_1124L', 'max_collater_valueofguarantee_876L', 'max_pmts_month_706T', 'max_pmts_year_507T', 'last_pmts_month_158T', 'last_pmts_year_1139T', 'last_pmts_month_706T', 'last_pmts_year_507T', 'max_num_group1_13', 'max_num_group2_13', 'last_num_group2_13', 'max_num_group1_15', 'max_num_group2_15']\n",
      "391\n",
      "538\n"
     ]
    }
   ],
   "source": [
    "df_train, cat_cols = to_pandas(df_train)\n",
    "df_train = reduce_mem_usage(df_train)\n",
    "print(\"train data shape:\\t\", df_train.shape)\n",
    "nums=df_train.select_dtypes(exclude='category').columns\n",
    "from itertools import combinations, permutations\n",
    "#df_train=df_train[nums]\n",
    "nans_df = df_train[nums].isna()\n",
    "nans_groups={}\n",
    "for col in nums:\n",
    "    cur_group = nans_df[col].sum()\n",
    "    try:\n",
    "        nans_groups[cur_group].append(col)\n",
    "    except:\n",
    "        nans_groups[cur_group]=[col]\n",
    "del nans_df; x=gc.collect()\n",
    "\n",
    "def reduce_group(grps):\n",
    "    use = []\n",
    "    for g in grps:\n",
    "        mx = 0; vx = g[0]\n",
    "        for gg in g:\n",
    "            n = df_train[gg].nunique()\n",
    "            if n>mx:\n",
    "                mx = n\n",
    "                vx = gg\n",
    "            #print(str(gg)+'-'+str(n),', ',end='')\n",
    "        use.append(vx)\n",
    "        #print()\n",
    "    print('Use these',use)\n",
    "    return use\n",
    "\n",
    "def group_columns_by_correlation(matrix, threshold=0.8):\n",
    "    # 计算列之间的相关性\n",
    "    correlation_matrix = matrix.corr()\n",
    "\n",
    "    # 分组列\n",
    "    groups = []\n",
    "    remaining_cols = list(matrix.columns)\n",
    "    while remaining_cols:\n",
    "        col = remaining_cols.pop(0)\n",
    "        group = [col]\n",
    "        correlated_cols = [col]\n",
    "        for c in remaining_cols:\n",
    "            if correlation_matrix.loc[col, c] >= threshold:\n",
    "                group.append(c)\n",
    "                correlated_cols.append(c)\n",
    "        groups.append(group)\n",
    "        remaining_cols = [c for c in remaining_cols if c not in correlated_cols]\n",
    "\n",
    "    return groups\n",
    "\n",
    "uses=[]\n",
    "for k,v in nans_groups.items():\n",
    "    if len(v)>1:\n",
    "            Vs = nans_groups[k]\n",
    "            #cross_features=list(combinations(Vs, 2))\n",
    "            #make_corr(Vs)\n",
    "            grps= group_columns_by_correlation(df_train[Vs], threshold=0.8)\n",
    "            use=reduce_group(grps)\n",
    "            uses=uses+use\n",
    "            #make_corr(use)\n",
    "    else:\n",
    "        uses=uses+v\n",
    "    print('####### NAN count =',k)\n",
    "print(uses)\n",
    "print(len(uses))\n",
    "uses=uses+list(df_train.select_dtypes(include='category').columns)\n",
    "print(len(uses))\n",
    "df_train=df_train[uses]\n",
    "# df_train.drop(['requesttype_4525192L_cnt','max_empl_employedtotal_800L_cnt', 'max_empl_industry_691L_cnt'], axis=1, inplace=True)"
   ]
  },
  {
   "cell_type": "code",
   "execution_count": 10,
   "id": "82faf222",
   "metadata": {
    "execution": {
     "iopub.execute_input": "2024-09-12T04:57:35.453717Z",
     "iopub.status.busy": "2024-09-12T04:57:35.452954Z",
     "iopub.status.idle": "2024-09-12T04:57:37.257919Z",
     "shell.execute_reply": "2024-09-12T04:57:37.256926Z"
    },
    "id": "o-3gazYqrGBP",
    "papermill": {
     "duration": 1.81761,
     "end_time": "2024-09-12T04:57:37.260273",
     "exception": false,
     "start_time": "2024-09-12T04:57:35.442663",
     "status": "completed"
    },
    "tags": []
   },
   "outputs": [],
   "source": [
    "y = df_train[\"target\"]\n",
    "weeks = df_train[\"WEEK_NUM\"]\n",
    "df_train= df_train.drop(columns=[\"target\",\"case_id\", \"WEEK_NUM\"])"
   ]
  },
  {
   "cell_type": "code",
   "execution_count": 11,
   "id": "891464e2",
   "metadata": {
    "execution": {
     "iopub.execute_input": "2024-09-12T04:57:37.281579Z",
     "iopub.status.busy": "2024-09-12T04:57:37.281066Z",
     "iopub.status.idle": "2024-09-12T04:57:47.030161Z",
     "shell.execute_reply": "2024-09-12T04:57:47.029150Z"
    },
    "id": "F8jvHrg1rGBP",
    "papermill": {
     "duration": 9.763283,
     "end_time": "2024-09-12T04:57:47.033139",
     "exception": false,
     "start_time": "2024-09-12T04:57:37.269856",
     "status": "completed"
    },
    "tags": []
   },
   "outputs": [],
   "source": [
    "df_train[cat_cols] = df_train[cat_cols].astype(str)"
   ]
  },
  {
   "cell_type": "code",
   "execution_count": 12,
   "id": "9e2b9c5c",
   "metadata": {
    "execution": {
     "iopub.execute_input": "2024-09-12T04:57:47.059341Z",
     "iopub.status.busy": "2024-09-12T04:57:47.058964Z",
     "iopub.status.idle": "2024-09-12T11:58:32.653184Z",
     "shell.execute_reply": "2024-09-12T11:58:32.652128Z"
    },
    "id": "JHfYL7oNrGBP",
    "outputId": "19e3fff4-da64-4300-9346-df543da77b7b",
    "papermill": {
     "duration": 25245.620163,
     "end_time": "2024-09-12T11:58:32.667093",
     "exception": false,
     "start_time": "2024-09-12T04:57:47.046930",
     "status": "completed"
    },
    "scrolled": true,
    "tags": []
   },
   "outputs": [
    {
     "name": "stdout",
     "output_type": "stream",
     "text": [
      "current step: 1\n"
     ]
    },
    {
     "name": "stderr",
     "output_type": "stream",
     "text": [
      "Default metric period is 5 because AUC is/are not implemented for GPU\n"
     ]
    },
    {
     "name": "stdout",
     "output_type": "stream",
     "text": [
      "0:\ttest: 0.5940388\tbest: 0.5940388 (0)\ttotal: 16.7s\tremaining: 1d 3h 52m 6s\n",
      "1000:\ttest: 0.8497419\tbest: 0.8497419 (1000)\ttotal: 28m\tremaining: 2h 19m 51s\n",
      "2000:\ttest: 0.8522443\tbest: 0.8522443 (2000)\ttotal: 54m 52s\tremaining: 1h 49m 39s\n",
      "bestTest = 0.8528366089\n",
      "bestIteration = 2460\n",
      "Shrink model to first 2461 iterations.\n",
      "current step: 2\n"
     ]
    },
    {
     "name": "stderr",
     "output_type": "stream",
     "text": [
      "Default metric period is 5 because AUC is/are not implemented for GPU\n"
     ]
    },
    {
     "name": "stdout",
     "output_type": "stream",
     "text": [
      "0:\ttest: 0.6352091\tbest: 0.6352091 (0)\ttotal: 1.96s\tremaining: 3h 16m 4s\n",
      "1000:\ttest: 0.8499489\tbest: 0.8499489 (1000)\ttotal: 27m 56s\tremaining: 2h 19m 34s\n",
      "2000:\ttest: 0.8518506\tbest: 0.8518549 (1998)\ttotal: 55m 4s\tremaining: 1h 50m 3s\n",
      "bestTest = 0.8532273769\n",
      "bestIteration = 2827\n",
      "Shrink model to first 2828 iterations.\n",
      "current step: 3\n"
     ]
    },
    {
     "name": "stderr",
     "output_type": "stream",
     "text": [
      "Default metric period is 5 because AUC is/are not implemented for GPU\n"
     ]
    },
    {
     "name": "stdout",
     "output_type": "stream",
     "text": [
      "0:\ttest: 0.6464518\tbest: 0.6464518 (0)\ttotal: 1.94s\tremaining: 3h 14m 18s\n",
      "1000:\ttest: 0.8546166\tbest: 0.8546208 (996)\ttotal: 27m 31s\tremaining: 2h 17m 25s\n",
      "2000:\ttest: 0.8570511\tbest: 0.8570511 (2000)\ttotal: 53m 57s\tremaining: 1h 47m 49s\n",
      "3000:\ttest: 0.8587301\tbest: 0.8587310 (2998)\ttotal: 1h 21m 4s\tremaining: 1h 21m\n",
      "bestTest = 0.8589280844\n",
      "bestIteration = 3113\n",
      "Shrink model to first 3114 iterations.\n",
      "current step: 4\n"
     ]
    },
    {
     "name": "stderr",
     "output_type": "stream",
     "text": [
      "Default metric period is 5 because AUC is/are not implemented for GPU\n"
     ]
    },
    {
     "name": "stdout",
     "output_type": "stream",
     "text": [
      "0:\ttest: 0.6020099\tbest: 0.6020099 (0)\ttotal: 1.97s\tremaining: 3h 17m 13s\n",
      "1000:\ttest: 0.8534046\tbest: 0.8534088 (995)\ttotal: 27m 58s\tremaining: 2h 19m 43s\n",
      "2000:\ttest: 0.8560748\tbest: 0.8560816 (1998)\ttotal: 55m\tremaining: 1h 49m 56s\n",
      "3000:\ttest: 0.8573870\tbest: 0.8573878 (2977)\ttotal: 1h 22m 5s\tremaining: 1h 22m 2s\n",
      "bestTest = 0.85780707\n",
      "bestIteration = 3605\n",
      "Shrink model to first 3606 iterations.\n",
      "current step: 5\n"
     ]
    },
    {
     "name": "stderr",
     "output_type": "stream",
     "text": [
      "Default metric period is 5 because AUC is/are not implemented for GPU\n"
     ]
    },
    {
     "name": "stdout",
     "output_type": "stream",
     "text": [
      "0:\ttest: 0.6382020\tbest: 0.6382020 (0)\ttotal: 1.95s\tremaining: 3h 14m 38s\n",
      "1000:\ttest: 0.8498078\tbest: 0.8498078 (1000)\ttotal: 27m 45s\tremaining: 2h 18m 36s\n",
      "2000:\ttest: 0.8525277\tbest: 0.8525462 (1968)\ttotal: 54m 42s\tremaining: 1h 49m 19s\n",
      "bestTest = 0.8525462151\n",
      "bestIteration = 1968\n",
      "Shrink model to first 1969 iterations.\n",
      "CV AUC scores:  [0.8528365642620495, 0.8532273537767779, 0.8589280965640478, 0.8578070540375672, 0.8525462504655767]\n",
      "AVG CV AUC score:  0.855069063821204\n",
      "Maximum CV AUC score:  0.8589280965640478\n"
     ]
    }
   ],
   "source": [
    "from catboost import CatBoostClassifier, Pool\n",
    "\n",
    "params = {\n",
    "    \"eval_metric\": \"AUC\",  # 相当于LightGBM中的metric参数\n",
    "    \"depth\": 10,  # 相当于LightGBM中的max_depth参数\n",
    "    \"learning_rate\": 0.075,  # 原 0.03\n",
    "    \"iterations\":6000,  # 原 15000\n",
    "    \"random_seed\": 3107,  # 相当于LightGBM中的random_state参数\n",
    "    \"l2_leaf_reg\": 20,  # 相当于LightGBM中的reg_lambda参数\n",
    "    \"border_count\": 254,  # 没有直接相当于LightGBM中的colsample_by*参数，但可以用来增加分箱数\n",
    "    # \"auto_class_weights\": \"Balanced\",\n",
    "    \"verbose\": False,  # 控制输出信息\n",
    "    \"task_type\": \"GPU\",  # 使用GPU训练\n",
    "    \"od_type\": \"Iter\",\n",
    "    \"od_wait\": 57  # 原 100\n",
    "}\n",
    "\n",
    "n_splits = 5\n",
    "fitted_models = []\n",
    "cv_scores = []\n",
    "\n",
    "\n",
    "cv = StratifiedGroupKFold(n_splits=n_splits, shuffle=False)\n",
    "\n",
    "step = 0\n",
    "for idx_train, idx_valid in cv.split(df_train, y, groups=weeks):#   Because it takes a long time to divide the data set,\n",
    "    step += 1\n",
    "    print(f'current step: {step}')\n",
    "\n",
    "    X_train, y_train = df_train.iloc[idx_train], y.iloc[idx_train]# each time the data set is divided, two models are trained to each other twice, which saves time.\n",
    "    X_valid, y_valid = df_train.iloc[idx_valid], y.iloc[idx_valid]\n",
    "    # case_id=X_valid['case_id']\n",
    "    # X_valid=X_valid.drop(columns=['case_id'])\n",
    "    # X_train=X_train.drop(columns=['case_id'])\n",
    "    train_pool = Pool(X_train, y_train,cat_features=cat_cols)\n",
    "    val_pool = Pool(X_valid, y_valid,cat_features=cat_cols)\n",
    "\n",
    "    model = CatBoostClassifier(**params)\n",
    "    model.fit(train_pool, eval_set=val_pool, verbose=1000)\n",
    "\n",
    "\n",
    "    fitted_models.append(model)\n",
    "    y_pred_valid = model.predict_proba(X_valid)[:,1]\n",
    "    auc_score = roc_auc_score(y_valid, y_pred_valid)\n",
    "    cv_scores.append(auc_score)\n",
    "\n",
    "print(\"CV AUC scores: \", cv_scores)\n",
    "print(\"AVG CV AUC score: \", np.mean(cv_scores))\n",
    "print(\"Maximum CV AUC score: \", max(cv_scores))"
   ]
  },
  {
   "cell_type": "code",
   "execution_count": 13,
   "id": "5cf85056",
   "metadata": {
    "execution": {
     "iopub.execute_input": "2024-09-12T11:58:32.692553Z",
     "iopub.status.busy": "2024-09-12T11:58:32.692229Z",
     "iopub.status.idle": "2024-09-12T11:58:39.126421Z",
     "shell.execute_reply": "2024-09-12T11:58:39.125424Z"
    },
    "id": "-Sy9rkPUrGBP",
    "outputId": "af71da3f-f432-4a4d-fa55-008cefb893ea",
    "papermill": {
     "duration": 6.449501,
     "end_time": "2024-09-12T11:58:39.128471",
     "exception": false,
     "start_time": "2024-09-12T11:58:32.678970",
     "status": "completed"
    },
    "tags": []
   },
   "outputs": [
    {
     "data": {
      "text/plain": [
       "['notebook_info.joblib']"
      ]
     },
     "execution_count": 13,
     "metadata": {},
     "output_type": "execute_result"
    }
   ],
   "source": [
    "import joblib\n",
    "\n",
    "joblib.dump(fitted_models, 'cat_models.joblib')\n",
    "\n",
    "notebook_info = {\n",
    "    'notebook_start_time': start_time_utc,\n",
    "    'description': 'first cat models',\n",
    "    'cols': df_train.columns.to_list(),\n",
    "    'cat_cols': cat_cols,\n",
    "}\n",
    "joblib.dump(notebook_info, 'notebook_info.joblib')\n"
   ]
  },
  {
   "cell_type": "code",
   "execution_count": 14,
   "id": "33901240",
   "metadata": {
    "execution": {
     "iopub.execute_input": "2024-09-12T11:58:39.154994Z",
     "iopub.status.busy": "2024-09-12T11:58:39.154692Z",
     "iopub.status.idle": "2024-09-12T11:58:40.591711Z",
     "shell.execute_reply": "2024-09-12T11:58:40.590559Z"
    },
    "id": "LK-_HOSgrGBP",
    "outputId": "89c223d9-94a3-44a9-a3b7-587dcaa78c27",
    "papermill": {
     "duration": 1.453362,
     "end_time": "2024-09-12T11:58:40.594404",
     "exception": false,
     "start_time": "2024-09-12T11:58:39.141042",
     "status": "completed"
    },
    "tags": []
   },
   "outputs": [
    {
     "name": "stdout",
     "output_type": "stream",
     "text": [
      "total 367920\r\n",
      "drwxr-xr-x 3 root root      4096 Sep 12 11:58 .\r\n",
      "drwxr-xr-x 6 root root      4096 Sep 12 04:53 ..\r\n",
      "---------- 1 root root     65756 Sep 12 11:58 __notebook__.ipynb\r\n",
      "-rw-r--r-- 1 root root 376650201 Sep 12 11:58 cat_models.joblib\r\n",
      "drwxr-xr-x 5 root root      4096 Sep 12 05:01 catboost_info\r\n",
      "-rw-r--r-- 1 root root     14211 Sep 12 11:58 notebook_info.joblib\r\n"
     ]
    }
   ],
   "source": [
    "!ls -al"
   ]
  }
 ],
 "metadata": {
  "accelerator": "GPU",
  "colab": {
   "gpuType": "L4",
   "machine_shape": "hm",
   "provenance": []
  },
  "kaggle": {
   "accelerator": "gpu",
   "dataSources": [
    {
     "databundleVersionId": 7921029,
     "sourceId": 50160,
     "sourceType": "competition"
    }
   ],
   "dockerImageVersionId": 30698,
   "isGpuEnabled": true,
   "isInternetEnabled": false,
   "language": "python",
   "sourceType": "notebook"
  },
  "kernelspec": {
   "display_name": "Python 3",
   "language": "python",
   "name": "python3"
  },
  "language_info": {
   "codemirror_mode": {
    "name": "ipython",
    "version": 3
   },
   "file_extension": ".py",
   "mimetype": "text/x-python",
   "name": "python",
   "nbconvert_exporter": "python",
   "pygments_lexer": "ipython3",
   "version": "3.10.13"
  },
  "papermill": {
   "default_parameters": {},
   "duration": 25527.799688,
   "end_time": "2024-09-12T11:58:44.180909",
   "environment_variables": {},
   "exception": null,
   "input_path": "__notebook__.ipynb",
   "output_path": "__notebook__.ipynb",
   "parameters": {},
   "start_time": "2024-09-12T04:53:16.381221",
   "version": "2.5.0"
  }
 },
 "nbformat": 4,
 "nbformat_minor": 5
}
